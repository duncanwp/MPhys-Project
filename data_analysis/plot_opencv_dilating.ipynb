{
 "cells": [
  {
   "cell_type": "code",
   "execution_count": 1,
   "metadata": {},
   "outputs": [
    {
     "name": "stderr",
     "output_type": "stream",
     "text": [
      "/Users/watson-parris/miniconda3/envs/xarray/lib/python3.6/site-packages/distributed/config.py:63: YAMLLoadWarning: calling yaml.load() without Loader=... is deprecated, as the default Loader is unsafe. Please read https://msg.pyyaml.org/load for full details.\n",
      "  config.update(yaml.load(text))\n"
     ]
    }
   ],
   "source": [
    "import xarray as xr\n",
    "import matplotlib.pyplot as plt\n",
    "import numpy as np\n",
    "import pandas as pd\n",
    "import pickle\n",
    "import dask.array as da\n",
    "import cv2\n",
    "import math\n",
    "from multiprocessing import Pool\n",
    "from glob import glob\n",
    "import itertools\n",
    "import os"
   ]
  },
  {
   "cell_type": "code",
   "execution_count": 2,
   "metadata": {},
   "outputs": [],
   "source": [
    "\n",
    "def image_data_operation(data, mask, method='Mean'):\n",
    "    if method == 'Mean':\n",
    "        return np.nanmean(data*mask)\n",
    "    elif method == 'MinMax':\n",
    "        return cv2.minMaxLoc(data.astype('float32'), mask = mask.astype('uint8'))\n",
    "    \n",
    "def striped_boundary_data(mask, stripe_width, no_stripes, data, method='Mean'):\n",
    "    kernel = cv2.getStructuringElement(cv2.MORPH_ELLIPSE, (stripe_width*2, stripe_width*2))\n",
    "    results = np.zeros((no_stripes,4))\n",
    "    masks = np.zeros((no_stripes,mask.shape[0],mask.shape[1]))\n",
    "    inner_mask = mask\n",
    "    outer_mask = np.zeros((mask.shape[0],mask.shape[1]))\n",
    "    #Create the inner stripes\n",
    "    for i in range(int(math.floor(no_stripes/2))):\n",
    "        inner_mask = cv2.erode(inner_mask.astype('float32'), kernel, iterations = 1)\n",
    "        masks[math.floor(no_stripes/2-1)-i,...] = mask.astype('float32')-inner_mask-outer_mask\n",
    "        outer_mask = outer_mask + masks[math.floor(no_stripes/2-1)-i,...]\n",
    "    #Create the outer stripes\n",
    "    outer_mask = mask.astype('float32')\n",
    "    inner_mask = mask.astype('float32')\n",
    "    for i in range(int(math.ceil(no_stripes/2))):\n",
    "        outer_mask = cv2.dilate(outer_mask, kernel, iterations = 1)\n",
    "        masks[math.floor(no_stripes/2)+i,...] = outer_mask - inner_mask\n",
    "        inner_mask = outer_mask\n",
    "    #Masks OK\n",
    "    masks[masks==0] = np.nan\n",
    "    \n",
    "    combined_mask = np.zeros((mask.shape[0],mask.shape[1]))\n",
    "    for i, m in enumerate(masks):\n",
    "        combined_mask += np.ma.masked_invalid(m).filled(0.)*(i-no_stripes/2)*15\n",
    "    plt.imshow(np.ma.masked_equal(combined_mask, 0.)[1015:, :])\n",
    "    plt.title('Distance (km)')\n",
    "    plt.colorbar(orientation='horizontal')\n",
    "    plt.xticks([])\n",
    "    plt.yticks([])\n",
    "    plt.show()\n",
    "        \n",
    "    graphs = {}\n",
    "    for variable, array in data.items():\n",
    "        graphs[variable] = np.zeros(no_stripes)\n",
    "        #Do the data operation\n",
    "        for i in range(masks.shape[0]):\n",
    "            if np.amax(masks[i,...]) == 0:\n",
    "                graphs[variable][i] = np.nan\n",
    "            else:\n",
    "                graphs[variable][i] = image_data_operation(array, masks[i,...], method=method)\n",
    "    return graphs"
   ]
  },
  {
   "cell_type": "code",
   "execution_count": 3,
   "metadata": {
    "scrolled": false
   },
   "outputs": [
    {
     "ename": "OSError",
     "evalue": "no files to open",
     "output_type": "error",
     "traceback": [
      "\u001b[0;31m---------------------------------------------------------------------------\u001b[0m",
      "\u001b[0;31mOSError\u001b[0m                                   Traceback (most recent call last)",
      "\u001b[0;32m<ipython-input-3-3d0b333a8612>\u001b[0m in \u001b[0;36m<module>\u001b[0;34m\u001b[0m\n\u001b[0;32m----> 1\u001b[0;31m \u001b[0mDS\u001b[0m \u001b[0;34m=\u001b[0m \u001b[0mxr\u001b[0m\u001b[0;34m.\u001b[0m\u001b[0mopen_mfdataset\u001b[0m\u001b[0;34m(\u001b[0m\u001b[0;34m'/Users/watson-parris/Desktop/MOD021KM.A2017343.1500.061.201734401385.hdf_poc_1km.nc'\u001b[0m\u001b[0;34m)\u001b[0m\u001b[0;34m\u001b[0m\u001b[0;34m\u001b[0m\u001b[0m\n\u001b[0m\u001b[1;32m      2\u001b[0m \u001b[0;34m\u001b[0m\u001b[0m\n\u001b[1;32m      3\u001b[0m \u001b[0;31m#if DS['poc_mask'].values.any() == 0:\u001b[0m\u001b[0;34m\u001b[0m\u001b[0;34m\u001b[0m\u001b[0;34m\u001b[0m\u001b[0m\n\u001b[1;32m      4\u001b[0m \u001b[0;31m#    return None\u001b[0m\u001b[0;34m\u001b[0m\u001b[0;34m\u001b[0m\u001b[0;34m\u001b[0m\u001b[0m\n\u001b[1;32m      5\u001b[0m \u001b[0mdata\u001b[0m \u001b[0;34m=\u001b[0m \u001b[0;34m{\u001b[0m\u001b[0;34m}\u001b[0m\u001b[0;34m\u001b[0m\u001b[0;34m\u001b[0m\u001b[0m\n",
      "\u001b[0;32m~/miniconda3/envs/xarray/lib/python3.6/site-packages/xarray/backends/api.py\u001b[0m in \u001b[0;36mopen_mfdataset\u001b[0;34m(paths, chunks, concat_dim, compat, preprocess, engine, lock, data_vars, coords, combine, autoclose, parallel, join, attrs_file, **kwargs)\u001b[0m\n\u001b[1;32m    876\u001b[0m \u001b[0;34m\u001b[0m\u001b[0m\n\u001b[1;32m    877\u001b[0m     \u001b[0;32mif\u001b[0m \u001b[0;32mnot\u001b[0m \u001b[0mpaths\u001b[0m\u001b[0;34m:\u001b[0m\u001b[0;34m\u001b[0m\u001b[0;34m\u001b[0m\u001b[0m\n\u001b[0;32m--> 878\u001b[0;31m         \u001b[0;32mraise\u001b[0m \u001b[0mOSError\u001b[0m\u001b[0;34m(\u001b[0m\u001b[0;34m\"no files to open\"\u001b[0m\u001b[0;34m)\u001b[0m\u001b[0;34m\u001b[0m\u001b[0;34m\u001b[0m\u001b[0m\n\u001b[0m\u001b[1;32m    879\u001b[0m \u001b[0;34m\u001b[0m\u001b[0m\n\u001b[1;32m    880\u001b[0m     \u001b[0;31m# If combine='by_coords' then this is unnecessary, but quick.\u001b[0m\u001b[0;34m\u001b[0m\u001b[0;34m\u001b[0m\u001b[0;34m\u001b[0m\u001b[0m\n",
      "\u001b[0;31mOSError\u001b[0m: no files to open"
     ]
    }
   ],
   "source": [
    "DS = xr.open_mfdataset('/Users/watson-parris/Desktop/MOD021KM.A2017343.1500.061.201734401385.hdf_poc_1km.nc')\n",
    "\n",
    "#if DS['poc_mask'].values.any() == 0:\n",
    "#    return None\n",
    "data = {}\n",
    "#data comes in as one long vector, reshape to modis image size, first dimension is image index\n",
    "shape = (int(DS.poc_mask.shape[0]/(2030*1350)),2030,1350)\n",
    "\n",
    "#extract numpy arrays into dict\n",
    "for variable in DS:\n",
    "    if variable == 'time':\n",
    "        continue\n",
    "    data[variable] = DS[variable].values.reshape(shape)\n",
    "\n",
    "#Discard images with no pocs\n",
    "poc_index = data['poc_mask'].any(axis=(1,2))\n",
    "poc_only_data = {}\n",
    "for variable, array in data.items():\n",
    "    poc_only_data[variable] = array[poc_index,...]\n",
    "\n",
    "poc_no = []\n",
    "\n",
    "graphs=[]\n",
    "for i in range(poc_only_data['poc_mask'].shape[0]):\n",
    "    single_image_data={}\n",
    "    for variable, array in poc_only_data.items():\n",
    "        if variable == 'poc_mask':\n",
    "            single_image_data[variable] = array[i,...]>127\n",
    "            plt.imshow(single_image_data[variable])\n",
    "            plt.show()\n",
    "        else:\n",
    "            single_image_data[variable] = array[i,...]\n",
    "    label_no, labels = cv2.connectedComponents((poc_only_data['poc_mask'][i,:,:]>127).astype('uint8'))\n",
    "    poc_no.append(label_no-1)\n",
    "    for j in range(label_no-1):\n",
    "        mask = (labels == j+1).astype('uint8')\n",
    "        plt.imshow(mask)\n",
    "        plt.show()\n",
    "        graphs.append(striped_boundary_data(mask, 5, 40, single_image_data))"
   ]
  },
  {
   "cell_type": "code",
   "execution_count": null,
   "metadata": {},
   "outputs": [],
   "source": [
    "print(DS)"
   ]
  },
  {
   "cell_type": "code",
   "execution_count": null,
   "metadata": {},
   "outputs": [],
   "source": [
    "plt.imshow(data['Cloud_Effective_Radius'][0, 1015:, :], vmin=0, vmax=30)\n",
    "plt.colorbar(orientation='horizontal')\n",
    "plt.title('Cloud Effective Radius ($\\mu$m)')\n",
    "plt.xticks([])\n",
    "plt.yticks([])\n",
    "plt.tight_layout()"
   ]
  },
  {
   "cell_type": "code",
   "execution_count": null,
   "metadata": {},
   "outputs": [],
   "source": []
  }
 ],
 "metadata": {
  "kernelspec": {
   "display_name": "Python [conda env:xarray]",
   "language": "python",
   "name": "conda-env-xarray-py"
  },
  "language_info": {
   "codemirror_mode": {
    "name": "ipython",
    "version": 3
   },
   "file_extension": ".py",
   "mimetype": "text/x-python",
   "name": "python",
   "nbconvert_exporter": "python",
   "pygments_lexer": "ipython3",
   "version": "3.6.10"
  }
 },
 "nbformat": 4,
 "nbformat_minor": 2
}
