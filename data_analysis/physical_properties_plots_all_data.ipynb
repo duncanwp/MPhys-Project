{
 "cells": [
  {
   "cell_type": "code",
   "execution_count": 1,
   "metadata": {},
   "outputs": [],
   "source": [
    "import pickle\n",
    "import numpy as np\n",
    "import pandas as pd\n",
    "import matplotlib.pyplot as plt\n",
    "import seaborn as sns\n",
    "import math\n",
    "import matplotlib\n",
    "import os"
   ]
  },
  {
   "cell_type": "code",
   "execution_count": 2,
   "metadata": {},
   "outputs": [
    {
     "name": "stdout",
     "output_type": "stream",
     "text": [
      "0.9.0\n"
     ]
    }
   ],
   "source": [
    "print(sns.__version__)"
   ]
  },
  {
   "cell_type": "code",
   "execution_count": 3,
   "metadata": {},
   "outputs": [],
   "source": [
    "lon = {'Californian':[-155,-95], 'Peruvian':[-115,-55], 'Namibian':[-25,35]}\n",
    "lat = {'Californian':[5,55], 'Peruvian':[-45,5], 'Namibian':[-45,15]}\n",
    "name_convert = {'Peru':'Peruvian', 'California':'Californian', 'Namibia':'Namibian'}\n",
    "\n",
    "to_plot_rain = ['rain_prob', 'rain_mean']\n",
    "to_plot_lwp = ['lwp']\n",
    "\n",
    "formatted_names = {'rain_prob':'Probability of Rain (1)', 'rain_mean':'Mean rain (??)', 'lwp':'Liquid Water Path (kg/m2)'}"
   ]
  },
  {
   "cell_type": "code",
   "execution_count": 4,
   "metadata": {},
   "outputs": [],
   "source": [
    "def assign_place(poc_df):\n",
    "    res = []\n",
    "    # We only need to test one of the slices of the POC\n",
    "    single_slice_of_poc = poc_df.iloc[0]\n",
    "    for place, value in lon.items():\n",
    "        if single_slice_of_poc.latitude > lat[place][0] and single_slice_of_poc.latitude < lat[place][1] and \\\n",
    "          single_slice_of_poc.longitude >lon[place][0] and single_slice_of_poc.longitude < lon[place][1]:\n",
    "            res.append(place)\n",
    "    # Check we matched exactly one place\n",
    "#     print(res)\n",
    "#     assert len(res) == 1, 'summin went wrong ere!'\n",
    "    if len(res) == 1:\n",
    "        res = res[0]\n",
    "    else:\n",
    "        res = None\n",
    "    return res\n",
    "\n",
    "def get_combined_df(pickle_file, stripe_width):\n",
    "    \"\"\"\n",
    "    \n",
    "    stripe_width # Number of kilometers each stripe represents\n",
    "    \n",
    "    \"\"\"\n",
    "    csv_file = pickle_file + '.csv'\n",
    "    if os.path.isfile(csv_file):\n",
    "        return pd.read_csv(csv_file)\n",
    "    else:\n",
    "        with open(pickle_file, 'rb') as handle:\n",
    "            data = pickle.load(handle)\n",
    "\n",
    "    example_POC = next((d for d in data if d is not None))\n",
    "    print(example_POC)\n",
    "    POCs = [len(d['latitude']) for d in data if d is not None]\n",
    "    n_POCs = sum(POCs)\n",
    "    print(\"Number of POCs found: {}\".format(n_POCs))\n",
    "\n",
    "    n_stripes = len(example_POC['latitude'][0])  # No. of stripes (assuming all the same)\n",
    "\n",
    "    n_stripes_from_boundary = (math.ceil(n_stripes/2)-0.5)\n",
    "\n",
    "    # Combine all the dictionaries into one with stacked arrays\n",
    "    pandas_data = {}\n",
    "    for key, value in example_POC.items():\n",
    "        pandas_data[key] = np.zeros((0, n_stripes))\n",
    "\n",
    "    for image in data:\n",
    "        if image: \n",
    "            for variable, array in image.items():\n",
    "                if variable in pandas_data:\n",
    "                    pandas_data[variable] = np.append(pandas_data[variable], np.asarray(array), axis=0)\n",
    "                    pandas_data[variable] = pd.DataFrame(pandas_data[variable])\n",
    "\n",
    "    pandas_long_form = pd.DataFrame()\n",
    "    for variable, array in pandas_data.items():\n",
    "        pandas_long_form[variable] = array.stack()\n",
    "\n",
    "    pandas_long_form['Distance from Boundary (km)'] = (pandas_long_form.index.get_level_values(1).values-n_stripes_from_boundary)*stripe_width\n",
    "    \n",
    "    # Group by POC, apply the assignment function, then reindex to broadcast across the slices\n",
    "    pandas_long_form['Location'] = pandas_long_form.groupby(level=0, axis=0).apply(assign_place).reindex(pandas_long_form.index, level=0)\n",
    "    \n",
    "#   # Save the df for next time\n",
    "    pandas_long_form.to_csv(csv_file)\n",
    "    return pandas_long_form"
   ]
  },
  {
   "cell_type": "code",
   "execution_count": 5,
   "metadata": {},
   "outputs": [],
   "source": [
    "df = get_combined_df('results/results_all_data.pickle', stripe_width=10)"
   ]
  },
  {
   "cell_type": "code",
   "execution_count": 6,
   "metadata": {},
   "outputs": [
    {
     "name": "stdout",
     "output_type": "stream",
     "text": [
      "3\n"
     ]
    },
    {
     "ename": "ValueError",
     "evalue": "Could not interpret input 'rain_mean'",
     "output_type": "error",
     "traceback": [
      "\u001b[0;31m---------------------------------------------------------------------------\u001b[0m",
      "\u001b[0;31mValueError\u001b[0m                                Traceback (most recent call last)",
      "\u001b[0;32m<ipython-input-6-93e9b78a8b1d>\u001b[0m in \u001b[0;36m<module>\u001b[0;34m\u001b[0m\n\u001b[1;32m     18\u001b[0m \u001b[0;34m\u001b[0m\u001b[0m\n\u001b[1;32m     19\u001b[0m \u001b[0mcurrent_ax\u001b[0m\u001b[0;34m=\u001b[0m\u001b[0max\u001b[0m\u001b[0;34m[\u001b[0m\u001b[0;36m1\u001b[0m\u001b[0;34m,\u001b[0m \u001b[0;36m0\u001b[0m\u001b[0;34m]\u001b[0m\u001b[0;34m\u001b[0m\u001b[0;34m\u001b[0m\u001b[0m\n\u001b[0;32m---> 20\u001b[0;31m \u001b[0msns\u001b[0m\u001b[0;34m.\u001b[0m\u001b[0mlineplot\u001b[0m\u001b[0;34m(\u001b[0m\u001b[0mx\u001b[0m\u001b[0;34m=\u001b[0m\u001b[0;34m'Distance from Boundary (km)'\u001b[0m\u001b[0;34m,\u001b[0m \u001b[0my\u001b[0m\u001b[0;34m=\u001b[0m\u001b[0;34m'rain_mean'\u001b[0m\u001b[0;34m,\u001b[0m \u001b[0mdata\u001b[0m\u001b[0;34m=\u001b[0m\u001b[0mdf\u001b[0m\u001b[0;34m,\u001b[0m \u001b[0mhue\u001b[0m\u001b[0;34m=\u001b[0m\u001b[0;34m'Location'\u001b[0m\u001b[0;34m,\u001b[0m \u001b[0max\u001b[0m\u001b[0;34m=\u001b[0m\u001b[0mcurrent_ax\u001b[0m\u001b[0;34m,\u001b[0m \u001b[0mci\u001b[0m\u001b[0;34m=\u001b[0m\u001b[0;36m68\u001b[0m\u001b[0;34m)\u001b[0m\u001b[0;34m\u001b[0m\u001b[0;34m\u001b[0m\u001b[0m\n\u001b[0m\u001b[1;32m     21\u001b[0m \u001b[0mcurrent_ax\u001b[0m\u001b[0;34m.\u001b[0m\u001b[0maxvline\u001b[0m\u001b[0;34m(\u001b[0m\u001b[0mx\u001b[0m\u001b[0;34m=\u001b[0m\u001b[0;36m0\u001b[0m\u001b[0;34m,\u001b[0m \u001b[0mlinestyle\u001b[0m\u001b[0;34m=\u001b[0m\u001b[0;34m':'\u001b[0m\u001b[0;34m)\u001b[0m\u001b[0;34m\u001b[0m\u001b[0;34m\u001b[0m\u001b[0m\n\u001b[1;32m     22\u001b[0m \u001b[0;31m# current_ax.set_xlabel('')\u001b[0m\u001b[0;34m\u001b[0m\u001b[0;34m\u001b[0m\u001b[0;34m\u001b[0m\u001b[0m\n",
      "\u001b[0;32m~/miniconda3/envs/xarray/lib/python3.6/site-packages/seaborn/relational.py\u001b[0m in \u001b[0;36mlineplot\u001b[0;34m(x, y, hue, size, style, data, palette, hue_order, hue_norm, sizes, size_order, size_norm, dashes, markers, style_order, units, estimator, ci, n_boot, sort, err_style, err_kws, legend, ax, **kwargs)\u001b[0m\n\u001b[1;32m   1076\u001b[0m         \u001b[0mdashes\u001b[0m\u001b[0;34m=\u001b[0m\u001b[0mdashes\u001b[0m\u001b[0;34m,\u001b[0m \u001b[0mmarkers\u001b[0m\u001b[0;34m=\u001b[0m\u001b[0mmarkers\u001b[0m\u001b[0;34m,\u001b[0m \u001b[0mstyle_order\u001b[0m\u001b[0;34m=\u001b[0m\u001b[0mstyle_order\u001b[0m\u001b[0;34m,\u001b[0m\u001b[0;34m\u001b[0m\u001b[0;34m\u001b[0m\u001b[0m\n\u001b[1;32m   1077\u001b[0m         \u001b[0munits\u001b[0m\u001b[0;34m=\u001b[0m\u001b[0munits\u001b[0m\u001b[0;34m,\u001b[0m \u001b[0mestimator\u001b[0m\u001b[0;34m=\u001b[0m\u001b[0mestimator\u001b[0m\u001b[0;34m,\u001b[0m \u001b[0mci\u001b[0m\u001b[0;34m=\u001b[0m\u001b[0mci\u001b[0m\u001b[0;34m,\u001b[0m \u001b[0mn_boot\u001b[0m\u001b[0;34m=\u001b[0m\u001b[0mn_boot\u001b[0m\u001b[0;34m,\u001b[0m\u001b[0;34m\u001b[0m\u001b[0;34m\u001b[0m\u001b[0m\n\u001b[0;32m-> 1078\u001b[0;31m         \u001b[0msort\u001b[0m\u001b[0;34m=\u001b[0m\u001b[0msort\u001b[0m\u001b[0;34m,\u001b[0m \u001b[0merr_style\u001b[0m\u001b[0;34m=\u001b[0m\u001b[0merr_style\u001b[0m\u001b[0;34m,\u001b[0m \u001b[0merr_kws\u001b[0m\u001b[0;34m=\u001b[0m\u001b[0merr_kws\u001b[0m\u001b[0;34m,\u001b[0m \u001b[0mlegend\u001b[0m\u001b[0;34m=\u001b[0m\u001b[0mlegend\u001b[0m\u001b[0;34m,\u001b[0m\u001b[0;34m\u001b[0m\u001b[0;34m\u001b[0m\u001b[0m\n\u001b[0m\u001b[1;32m   1079\u001b[0m     )\n\u001b[1;32m   1080\u001b[0m \u001b[0;34m\u001b[0m\u001b[0m\n",
      "\u001b[0;32m~/miniconda3/envs/xarray/lib/python3.6/site-packages/seaborn/relational.py\u001b[0m in \u001b[0;36m__init__\u001b[0;34m(self, x, y, hue, size, style, data, palette, hue_order, hue_norm, sizes, size_order, size_norm, dashes, markers, style_order, units, estimator, ci, n_boot, sort, err_style, err_kws, legend)\u001b[0m\n\u001b[1;32m    661\u001b[0m \u001b[0;34m\u001b[0m\u001b[0m\n\u001b[1;32m    662\u001b[0m         plot_data = self.establish_variables(\n\u001b[0;32m--> 663\u001b[0;31m             \u001b[0mx\u001b[0m\u001b[0;34m,\u001b[0m \u001b[0my\u001b[0m\u001b[0;34m,\u001b[0m \u001b[0mhue\u001b[0m\u001b[0;34m,\u001b[0m \u001b[0msize\u001b[0m\u001b[0;34m,\u001b[0m \u001b[0mstyle\u001b[0m\u001b[0;34m,\u001b[0m \u001b[0munits\u001b[0m\u001b[0;34m,\u001b[0m \u001b[0mdata\u001b[0m\u001b[0;34m\u001b[0m\u001b[0;34m\u001b[0m\u001b[0m\n\u001b[0m\u001b[1;32m    664\u001b[0m         )\n\u001b[1;32m    665\u001b[0m \u001b[0;34m\u001b[0m\u001b[0m\n",
      "\u001b[0;32m~/miniconda3/envs/xarray/lib/python3.6/site-packages/seaborn/relational.py\u001b[0m in \u001b[0;36mestablish_variables\u001b[0;34m(self, x, y, hue, size, style, units, data)\u001b[0m\n\u001b[1;32m    140\u001b[0m                 \u001b[0;32mif\u001b[0m \u001b[0misinstance\u001b[0m\u001b[0;34m(\u001b[0m\u001b[0mvar\u001b[0m\u001b[0;34m,\u001b[0m \u001b[0mstring_types\u001b[0m\u001b[0;34m)\u001b[0m\u001b[0;34m:\u001b[0m\u001b[0;34m\u001b[0m\u001b[0;34m\u001b[0m\u001b[0m\n\u001b[1;32m    141\u001b[0m                     \u001b[0merr\u001b[0m \u001b[0;34m=\u001b[0m \u001b[0;34m\"Could not interpret input '{}'\"\u001b[0m\u001b[0;34m.\u001b[0m\u001b[0mformat\u001b[0m\u001b[0;34m(\u001b[0m\u001b[0mvar\u001b[0m\u001b[0;34m)\u001b[0m\u001b[0;34m\u001b[0m\u001b[0;34m\u001b[0m\u001b[0m\n\u001b[0;32m--> 142\u001b[0;31m                     \u001b[0;32mraise\u001b[0m \u001b[0mValueError\u001b[0m\u001b[0;34m(\u001b[0m\u001b[0merr\u001b[0m\u001b[0;34m)\u001b[0m\u001b[0;34m\u001b[0m\u001b[0;34m\u001b[0m\u001b[0m\n\u001b[0m\u001b[1;32m    143\u001b[0m \u001b[0;34m\u001b[0m\u001b[0m\n\u001b[1;32m    144\u001b[0m             \u001b[0;31m# Extract variable names\u001b[0m\u001b[0;34m\u001b[0m\u001b[0;34m\u001b[0m\u001b[0;34m\u001b[0m\u001b[0m\n",
      "\u001b[0;31mValueError\u001b[0m: Could not interpret input 'rain_mean'"
     ]
    },
    {
     "data": {
      "image/png": "[encoded data removed]",
      "text/plain": [
       "<Figure size 1080x360 with 4 Axes>"
      ]
     },
     "metadata": {
      "needs_background": "light"
     },
     "output_type": "display_data"
    }
   ],
   "source": [
    "no_variables=len(to_plot_rain+to_plot_lwp)\n",
    "print(no_variables)\n",
    "sns.set_context('paper', font_scale=1.5)\n",
    "\n",
    "index = 0\n",
    "fig, ax = plt.subplots(2, 2, figsize = (15, 5*math.floor(no_variables/2)))\n",
    "\n",
    "\n",
    "current_ax=ax[0, 0]\n",
    "sns.lineplot(x='Distance from Boundary (km)', y='Cloud_Effective_Radius', data=df, hue='Location', ax=current_ax, ci=68)\n",
    "current_ax.axvline(x=0, linestyle=':')\n",
    "# current_ax.set_xlabel('')\n",
    "current_ax.set_ylabel(\"Cloud_Effective_Radius\")\n",
    "# current_ax.set_xlim(-75,200)\n",
    "# current_ax.set_ylim(0.0,0.1)\n",
    "handles, labels = current_ax.get_legend_handles_labels()\n",
    "current_ax.get_legend().remove()\n",
    "\n",
    "current_ax=ax[1, 0]\n",
    "sns.lineplot(x='Distance from Boundary (km)', y='rain_mean', data=df, hue='Location', ax=current_ax, ci=68)\n",
    "current_ax.axvline(x=0, linestyle=':')\n",
    "# current_ax.set_xlabel('')\n",
    "current_ax.set_ylabel(formatted_names['rain_mean'])\n",
    "# current_ax.set_xlim(-75,200)\n",
    "# current_ax.set_ylim(0.0,0.02)\n",
    "handles, labels = current_ax.get_legend_handles_labels()\n",
    "current_ax.get_legend().remove()\n",
    "\n",
    "current_ax=ax[0, 1]\n",
    "sns.lineplot(x='Distance from Boundary (km)', y='lwp', data=df, hue='Location', ax=current_ax, ci=68)\n",
    "current_ax.axvline(x=0, linestyle=':')\n",
    "# current_ax.set_xlabel('')\n",
    "current_ax.set_ylabel(formatted_names['lwp'])\n",
    "# current_ax.set_xlim(-75,200)\n",
    "# current_ax.set_ylim(0.05,0.1)\n",
    "handles, labels = current_ax.get_legend_handles_labels()\n",
    "current_ax.get_legend().remove()\n",
    "    \n",
    "# ax[2,0].set_xlabel('Distance from Boundary (km)')\n",
    "    \n",
    "# area_ax.grid()\n",
    "# area_ax.set_xticklabels([f\"$10^{int(t)}$\" for t in area_ax.get_xticks()])\n",
    "# area_ax.set_xlabel(\"Area (km)\")\n",
    "# area_ax.set_ylabel(\"Probability (1)\")\n",
    "\n",
    "    \n",
    "fig.legend(handles[1:], ['California', 'Namibia', 'Peru'], ncol=3, title='Location', loc='lower center', bbox_to_anchor=(0.4, 0.01))\n",
    "# fig.tight_layout()\n",
    "# fig.suptitle('Properties of POCs', fontsize=22)"
   ]
  },
  {
   "cell_type": "code",
   "execution_count": null,
   "metadata": {},
   "outputs": [],
   "source": [
    "df_rain = get_combined_df('results/results_amsr2_rain.pickle', stripe_width=10)\n",
    "df_lwp = get_combined_df('results/results_amsr2_lwp.pickle', stripe_width=10)"
   ]
  },
  {
   "cell_type": "code",
   "execution_count": null,
   "metadata": {
    "scrolled": false
   },
   "outputs": [],
   "source": [
    "no_variables=len(to_plot_rain+to_plot_lwp)\n",
    "print(no_variables)\n",
    "sns.set_context('paper', font_scale=1.5)\n",
    "\n",
    "index = 0\n",
    "fig, ax = plt.subplots(2, 2, figsize = (15, 5*math.floor(no_variables/2)))\n",
    "\n",
    "\n",
    "current_ax=ax[0, 0]\n",
    "sns.lineplot(x='Distance from Boundary (km)', y='rain_prob', data=df_rain, hue='Location', ax=current_ax, ci=68)\n",
    "current_ax.axvline(x=0, linestyle=':')\n",
    "# current_ax.set_xlabel('')\n",
    "current_ax.set_ylabel(formatted_names['rain_prob'])\n",
    "current_ax.set_xlim(-75,200)\n",
    "# current_ax.set_ylim(0.0,0.1)\n",
    "handles, labels = current_ax.get_legend_handles_labels()\n",
    "current_ax.get_legend().remove()\n",
    "\n",
    "current_ax=ax[1, 0]\n",
    "sns.lineplot(x='Distance from Boundary (km)', y='rain_mean', data=df_rain, hue='Location', ax=current_ax, ci=68)\n",
    "current_ax.axvline(x=0, linestyle=':')\n",
    "# current_ax.set_xlabel('')\n",
    "current_ax.set_ylabel(formatted_names['rain_mean'])\n",
    "current_ax.set_xlim(-75,200)\n",
    "# current_ax.set_ylim(0.0,0.02)\n",
    "handles, labels = current_ax.get_legend_handles_labels()\n",
    "current_ax.get_legend().remove()\n",
    "\n",
    "current_ax=ax[0, 1]\n",
    "sns.lineplot(x='Distance from Boundary (km)', y='lwp', data=df_lwp, hue='Location', ax=current_ax, ci=68)\n",
    "current_ax.axvline(x=0, linestyle=':')\n",
    "# current_ax.set_xlabel('')\n",
    "current_ax.set_ylabel(formatted_names['lwp'])\n",
    "current_ax.set_xlim(-75,200)\n",
    "# current_ax.set_ylim(0.05,0.1)\n",
    "handles, labels = current_ax.get_legend_handles_labels()\n",
    "current_ax.get_legend().remove()\n",
    "\n",
    "current_ax=ax[0, 1]\n",
    "sns.lineplot(x='Distance from Boundary (km)', y='lwp', data=df_lwp, hue='Location', ax=current_ax, ci=68)\n",
    "current_ax.axvline(x=0, linestyle=':')\n",
    "# current_ax.set_xlabel('')\n",
    "current_ax.set_ylabel(formatted_names['lwp'])\n",
    "# current_ax.set_xlim(-75,200)\n",
    "# current_ax.set_ylim(0.05,0.1)\n",
    "handles, labels = current_ax.get_legend_handles_labels()\n",
    "current_ax.get_legend().remove()\n",
    "    \n",
    "\n",
    "# ax[2,0].set_xlabel('Distance from Boundary (km)')\n",
    "    \n",
    "# area_ax.grid()\n",
    "# area_ax.set_xticklabels([f\"$10^{int(t)}$\" for t in area_ax.get_xticks()])\n",
    "# area_ax.set_xlabel(\"Area (km)\")\n",
    "# area_ax.set_ylabel(\"Probability (1)\")\n",
    "\n",
    "    \n",
    "fig.legend(handles[1:], ['California', 'Namibia', 'Peru'], ncol=3, title='Location', loc='lower center', bbox_to_anchor=(0.4, 0.01))\n",
    "# fig.tight_layout()\n",
    "# fig.suptitle('Properties of POCs', fontsize=22)"
   ]
  },
  {
   "cell_type": "code",
   "execution_count": null,
   "metadata": {},
   "outputs": [],
   "source": []
  }
 ],
 "metadata": {
  "kernelspec": {
   "display_name": "Python [conda env:xarray]",
   "language": "python",
   "name": "conda-env-xarray-py"
  },
  "language_info": {
   "codemirror_mode": {
    "name": "ipython",
    "version": 3
   },
   "file_extension": ".py",
   "mimetype": "text/x-python",
   "name": "python",
   "nbconvert_exporter": "python",
   "pygments_lexer": "ipython3",
   "version": "3.6.10"
  }
 },
 "nbformat": 4,
 "nbformat_minor": 2
}
